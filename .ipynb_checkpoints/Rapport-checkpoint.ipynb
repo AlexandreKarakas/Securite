{
 "cells": [
  {
   "cell_type": "markdown",
   "metadata": {},
   "source": [
    "## Rapport du projet de sécurité"
   ]
  },
  {
   "cell_type": "markdown",
   "metadata": {},
   "source": [
    "### Qualifying set"
   ]
  },
  {
   "cell_type": "markdown",
   "metadata": {},
   "source": [
    "#### 1.1 Convert Hex to base64"
   ]
  },
  {
   "cell_type": "markdown",
   "metadata": {},
   "source": [
    "Pour la première partie du projet on va utiliser l'hexadécimale et l'encodage décobage en base64 avec le code suivant:\n",
    "\n",
    "49276d206b696c6c696e6720796f757220627261696e206c696b65206120706f69736f6e6f7573206d757368726f6f6d"
   ]
  },
  {
   "cell_type": "code",
   "execution_count": 128,
   "metadata": {
    "scrolled": false
   },
   "outputs": [
    {
     "name": "stdout",
     "output_type": "stream",
     "text": [
      "49276d206b696c6c696e6720796f757220627261696e206c696b65206120706f69736f6e6f7573206d757368726f6f6d\n",
      "b\"I'm killing your brain like a poisonous mushroom\"\n",
      "SSdtIGtpbGxpbmcgeW91ciBicmFpbiBsaWtlIGEgcG9pc29ub3VzIG11c2hyb29t\n"
     ]
    }
   ],
   "source": [
    "import os, sys\n",
    "import base64 as b\n",
    "import binascii\n",
    "def lecture_fichier():\n",
    "    with open(os.path.join(sys.path[0],'fichier','fichier.txt'), \"r\") as mon_fichier :\n",
    "        contenu = mon_fichier.read()\n",
    "        print(contenu)\n",
    "        contenu = binascii.unhexlify(contenu)\n",
    "        print(contenu)\n",
    "        contenu = b.b64encode(contenu)\n",
    "        contenu = contenu.decode()\n",
    "        print(contenu)\n",
    "        \n",
    "lecture_fichier()"
   ]
  },
  {
   "cell_type": "markdown",
   "metadata": {},
   "source": [
    "On trouve bien comme dans le projet :\n",
    "SSdtIGtpbGxpbmcgeW91ciBicmFpbiBsaWtlIGEgcG9pc29ub3VzIG11c2hyb29t"
   ]
  },
  {
   "cell_type": "markdown",
   "metadata": {},
   "source": [
    "#### 1.2 FixedXor"
   ]
  },
  {
   "cell_type": "markdown",
   "metadata": {},
   "source": [
    "Pour créer le Ou exclusif, j'ai utiliser dans python le caratère \"^\", ce caractère permet de retourner une valeur entre deux valeur. Pour crypter le Ou exclusif, il faut le faire pour chaque bit. Ce qui nous donne comme algo"
   ]
  },
  {
   "cell_type": "code",
   "execution_count": 118,
   "metadata": {
    "scrolled": false
   },
   "outputs": [
    {
     "name": "stdout",
     "output_type": "stream",
     "text": [
      "746865206b696420646f6e277420706c6179\n"
     ]
    }
   ],
   "source": [
    "import binascii as bi\n",
    "\n",
    "def str_hex(str):\n",
    "    return int(str, base=16)\n",
    "\n",
    "\n",
    "def fixedXor(s1, s2) :\n",
    "    tab = bytes(a^b for (a, b) in zip(s1, s2))\n",
    "    tab = bi.hexlify(tab)\n",
    "    return tab\n",
    "\n",
    "def fixedXOR2(s1, s2):\n",
    "    value = hex(int(s1, 16)^(int(s2, 16)))\n",
    "    return value\n",
    "\n",
    "s1 = (\"1c0111001f010100061a024b53535009181c\")\n",
    "s2 = (\"686974207468652062756c6c277320657965\")\n",
    "\n",
    "s = fixedXOR2(s1, s2)\n",
    "print(s[2:])\n",
    "\n"
   ]
  },
  {
   "cell_type": "markdown",
   "metadata": {},
   "source": [
    "#### 1. 3 Single-byte XOR cipher"
   ]
  },
  {
   "cell_type": "raw",
   "metadata": {},
   "source": [
    "Pour trouver la cle permettant de déchiffrer le message, il faut pour cela tester toute les caractères possible. Pour mener à bien cette strategie, il faut qu'on se dote d'un dictionnaire avec les frequences d'apparition de chaque caractère. \n",
    "Dès lors qu'on un score pour chaque clé on cherche celui qui a le meilleur score. Et cela nous permet de dechiffrer le message.\n"
   ]
  },
  {
   "cell_type": "code",
   "execution_count": 119,
   "metadata": {},
   "outputs": [
    {
     "data": {
      "text/plain": [
       "('X', 149.01000000000002)"
      ]
     },
     "execution_count": 119,
     "metadata": {},
     "output_type": "execute_result"
    }
   ],
   "source": [
    "import binascii as bi\n",
    "\n",
    "def charger_dictionnaire() :\n",
    "    frequence = dict()\n",
    "    #dictionnaire de frequence sur 40 000 mots en anglais\n",
    "    frequence['A'] = 8.08\n",
    "    frequence['a'] = 8.08\n",
    "    frequence['B'] = 1.67\n",
    "    frequence['b'] = 1.67\n",
    "    frequence['C'] = 3.18\n",
    "    frequence['c'] = 3.18\n",
    "    frequence['D'] = 3.99\n",
    "    frequence['d'] = 3.99\n",
    "    frequence['E'] = 12.56\n",
    "    frequence['e'] = 12.56\n",
    "    frequence['F'] = 2.17\n",
    "    frequence['f'] = 2.17\n",
    "    frequence['G'] = 1.80\n",
    "    frequence['g'] = 1.80\n",
    "    frequence['H'] = 5.27\n",
    "    frequence['h'] = 5.27\n",
    "    frequence['I'] = 7.24\n",
    "    frequence['i'] = 7.24\n",
    "    frequence['J'] = 0.14\n",
    "    frequence['j'] = 0.14\n",
    "    frequence['K'] = 0.63\n",
    "    frequence['k'] = 0.63\n",
    "    frequence['M'] = 2.60\n",
    "    frequence['m'] = 2.60\n",
    "    frequence['N'] = 7.38\n",
    "    frequence['n'] = 7.38\n",
    "    frequence['O'] = 7.47\n",
    "    frequence['o'] = 7.47\n",
    "    frequence['P'] = 1.91\n",
    "    frequence['p'] = 1.91\n",
    "    frequence['Q'] = 0.09\n",
    "    frequence['q'] = 0.09\n",
    "    frequence['R'] = 6.42\n",
    "    frequence['r'] = 6.42\n",
    "    frequence['S'] = 6.59\n",
    "    frequence['s'] = 6.59\n",
    "    frequence['T'] = 9.15\n",
    "    frequence['t'] = 9.15\n",
    "    frequence['U'] = 2.79\n",
    "    frequence['u'] = 2.79\n",
    "    frequence['V'] = 1.00\n",
    "    frequence['v'] = 1.00\n",
    "    frequence['W'] = 1.89\n",
    "    frequence['w'] = 1.89\n",
    "    frequence['X'] = 0.21\n",
    "    frequence['x'] = 0.21\n",
    "    frequence['Y'] = 1.65\n",
    "    frequence['y'] = 1.65\n",
    "    frequence['Z'] = 0.07\n",
    "    frequence['z'] = 0.07\n",
    "    frequence[' '] = 2.0\n",
    "    return frequence\n",
    "\n",
    "\n",
    "def score(c):\n",
    "    alphabet = charger_dictionnaire()\n",
    "    value = 0\n",
    "    if c in alphabet :\n",
    "        value  = alphabet.get(c)\n",
    "    return value\n",
    "\n",
    "def calcul_score_phrase(s1):\n",
    "    alphabet = charger_dictionnaire()\n",
    "    score_value = 0\n",
    "    for i in s1 :\n",
    "        p = chr(i)\n",
    "        score_value = score_value + score(p)\n",
    "    return score_value\n",
    "\n",
    "def dechiffrement_xor(s1) :\n",
    "    list_max = 0\n",
    "    caractere = None\n",
    "    b = list()\n",
    "    alphabet = charger_dictionnaire()\n",
    "    for i in alphabet.keys() :\n",
    "        b = [ord(i)] * len(s1)\n",
    "        phrase = fixedXor(s1, b)\n",
    "        phrase = bi.unhexlify(phrase)\n",
    "        max_score = calcul_score_phrase(phrase)\n",
    "        if max_score > list_max :\n",
    "            list_max = max_score\n",
    "            caractere = i\n",
    "    b = [ord(caractere)] * len(s1)\n",
    "    phrase = (fixedXor(s1, b))\n",
    "    phrase = bi.unhexlify(phrase)\n",
    "    return caractere, list_max\n",
    "\n",
    "    \n",
    "\n",
    "s1 = bytearray.fromhex(\"1b37373331363f78151b7f2b783431333d78397828372d363c78373e783a393b3736\")\n",
    "dechiffrement_xor(s1)\n"
   ]
  },
  {
   "cell_type": "markdown",
   "metadata": {},
   "source": [
    "#### 1.4 Detect single-character XOR"
   ]
  },
  {
   "cell_type": "raw",
   "metadata": {},
   "source": [
    "Pour trouver la cle on va parcourir toutes les caratère, on calcule le score associé. Puis nous recupérons le plus grand des scores pour trouver la clé"
   ]
  },
  {
   "cell_type": "code",
   "execution_count": 131,
   "metadata": {},
   "outputs": [
    {
     "name": "stdout",
     "output_type": "stream",
     "text": [
      "150.27 5 Now that the party is jumping\n",
      "\n"
     ]
    }
   ],
   "source": [
    "\n",
    "import binascii as bi\n",
    "\n",
    "def ouverture_fichier():\n",
    "    with open(os.path.join(sys.path[0],'fichier' ,'detecting-singlechar-xor.txt'), \"r\") as mon_fichier :\n",
    "        tab = mon_fichier.read()\n",
    "        tab = tab.split()\n",
    "        max_score = 0\n",
    "    for i in tab :\n",
    "        i = bytearray.fromhex(i)\n",
    "        for y in range(256):\n",
    "            b = [y] * len(i)\n",
    "            phrase = (fixedXor(i, b))\n",
    "            phrase = bi.unhexlify(phrase)\n",
    "            score = calcul_score_phrase(phrase)\n",
    "            if score > max_score :\n",
    "                max_score = score\n",
    "                caractere = chr(y)\n",
    "                value = phrase\n",
    "    value = value.decode()\n",
    "    print(max_score, caractere, value)\n",
    "ouverture_fichier()"
   ]
  },
  {
   "cell_type": "markdown",
   "metadata": {},
   "source": [
    "#### 1.5 Implement repeating-key XOR"
   ]
  },
  {
   "cell_type": "raw",
   "metadata": {},
   "source": [
    "Nous allons utiliser la clé \"ICE\" pour crypter la phrase, nous utiliserons le XOR"
   ]
  },
  {
   "cell_type": "code",
   "execution_count": 132,
   "metadata": {},
   "outputs": [
    {
     "name": "stdout",
     "output_type": "stream",
     "text": [
      "0b3637272a2b2e6386eba1c7e5a1c1eb262865632c2f633c263665282a2b8ae1a7cbefa7cde13169323020202e69222b2d632b202e2725264f0063222663263b223f30633221262b690a652126243b632469203c24212425\n"
     ]
    }
   ],
   "source": [
    "\n",
    "def cryptage():\n",
    "     with open(os.path.join(sys.path[0],'fichier','ICE.txt'), \"r\") as mon_fichier :\n",
    "        phrase = mon_fichier.read()\n",
    "        phrase = phrase.encode()\n",
    "        b = bytes(\"ICE\" * len(phrase), 'utf-8')\n",
    "        crypt = fixedXor(phrase, b)\n",
    "        crypt = crypt.decode()\n",
    "        print(crypt)\n",
    "\n",
    "cryptage()"
   ]
  },
  {
   "cell_type": "markdown",
   "metadata": {},
   "source": [
    "#### 1.6 Break repeating-key XOR"
   ]
  },
  {
   "cell_type": "raw",
   "metadata": {},
   "source": [
    "Nous devons dans cette partie calculer la distance de hamming"
   ]
  },
  {
   "cell_type": "code",
   "execution_count": 89,
   "metadata": {},
   "outputs": [
    {
     "name": "stdout",
     "output_type": "stream",
     "text": [
      "14\n"
     ]
    }
   ],
   "source": [
    "def distance_hamming(s1, s2) :\n",
    "    resultat = 0\n",
    "    a = bytearray(s1, 'utf-8')\n",
    "    b = bytearray(s2, 'utf-8')\n",
    "    c = fixedXor(a, b)\n",
    "    taille = len(s1)\n",
    "    for i in range(taille) :\n",
    "        if (caractere(s1, i) != caractere(s2, i)) :\n",
    "            resultat = resultat + 1\n",
    "    return resultat\n",
    "\n",
    "def caractere(s1, index) :\n",
    "    return s1[index]\n",
    "\n",
    "s1 = \"this is a test\"\n",
    "s2 = \"wokka wokka!!!\"\n",
    "\n",
    "valeur = distance_hamming(s1, s2)\n",
    "print(valeur)"
   ]
  },
  {
   "cell_type": "markdown",
   "metadata": {},
   "source": [
    "#### 1.7 AES in ECB"
   ]
  },
  {
   "cell_type": "raw",
   "metadata": {},
   "source": [
    "Nous allons utiliser la librairie crypto.cipher pour utiliser le mode ECB\n",
    "Nous pouvions également utiliser la bibliothèque M2Crypto qui dispose d'un mode AES.\n",
    "Pour pouvoir installer les bibliothèques utilisés on doit l'installer par pip install pycrypto"
   ]
  },
  {
   "cell_type": "code",
   "execution_count": 133,
   "metadata": {},
   "outputs": [],
   "source": [
    "from Crypto.Cipher import AES\n",
    "#import binascii as bi\n",
    "import base64 as b\n",
    "\n",
    "def decryptage(phrase):\n",
    "    texte = phrase.encode()\n",
    "    texte = b.b64decode(texte)\n",
    "    cle = \"YELLOW SUBMARINE\"\n",
    "    texte = decryptage2(texte, cle)\n",
    "    return texte\n",
    "\n",
    "def decryptage2(phrase, cle):\n",
    "    decryptage = AES.new(cle, AES.MODE_ECB)\n",
    "    texte = bytearray(decryptage.decrypt(phrase))\n",
    "    return texte\n",
    "\n",
    "def cryptage(phrase, cle):\n",
    "    cryptag = AES.new(cle, AES.MODE_ECB)\n",
    "    texte = bytearray(cryptag.encrypt(phrase))\n",
    "    return texte\n",
    "\n",
    "def lecture_fichier():\n",
    "    with open(os.path.join(sys.path[0],'fichier','aes-in-ecb.txt'), \"r\") as mon_fichier :\n",
    "        phrase = mon_fichier.read()\n",
    "    return phrase\n",
    "\n",
    "#phrase = lecture_fichier()\n",
    "#phrase = decryptage(phrase)\n",
    "#phrase = phrase.decode()\n",
    "#cle = \"YELLOW SUBMARINE\"\n",
    "#print(phrase)"
   ]
  },
  {
   "cell_type": "markdown",
   "metadata": {},
   "source": [
    "#### 1.8 Detect AES in ECB mode"
   ]
  },
  {
   "cell_type": "raw",
   "metadata": {},
   "source": [
    "Nous devons détecter la phrase qui à été crypter avec ECB"
   ]
  },
  {
   "cell_type": "code",
   "execution_count": 134,
   "metadata": {},
   "outputs": [],
   "source": [
    "from textwrap import wrap\n",
    "\n",
    "def dictionnaire_valeur(s1):\n",
    "    chaine = wrap(s1, 16)\n",
    "    tab = dict()\n",
    "    for i in chaine:\n",
    "        tab[i] = 0\n",
    "    for i in chaine :\n",
    "        tab[i] = tab[i] + 1\n",
    "    return tab\n",
    "\n",
    "def decryptage () :\n",
    "    with open(os.path.join(sys.path[0],'fichier','detect-aes-ecb.txt'), \"r\") as mon_fichier :\n",
    "        texte = mon_fichier.read()\n",
    "        tab = dictionnaire_valeur(texte)\n",
    "\n",
    "decryptage()"
   ]
  },
  {
   "cell_type": "markdown",
   "metadata": {},
   "source": [
    "#### 2.1 Implement PKCS#7 padding"
   ]
  },
  {
   "cell_type": "raw",
   "metadata": {},
   "source": [
    "Dans cette partie nous allons créer une fonction qui permet de faire du bourrage afin d'avoir une taille suffisamment grande pour pouvoir crypter nos messages "
   ]
  },
  {
   "cell_type": "code",
   "execution_count": 15,
   "metadata": {},
   "outputs": [],
   "source": [
    "\n",
    "def padding(s1, t1):  \n",
    "    taille = len(s1)\n",
    "    taillePad = t1 - (taille%t1)\n",
    "    if taillePad == 0:\n",
    "        taillePad = t1\n",
    "    pad = bytes(chr(taillePad), 'utf-8')\n",
    "    s1 = bytes(s1, 'utf-8')\n",
    "    return s1 + pad*taillePad\n",
    "\n",
    "\n",
    "\n",
    "#texte = \"YELLOW SUBMARINE\"\n",
    "#texte = padding(texte, 20)\n",
    "#print(texte)"
   ]
  },
  {
   "cell_type": "markdown",
   "metadata": {},
   "source": [
    "#### 2.2 Implement CBC mode"
   ]
  },
  {
   "cell_type": "markdown",
   "metadata": {},
   "source": [
    "Pour implementer le CBC nous allons utiliser le mode ECB et le OU exclusif. En effet l'implementation de CBC suit le schéma suivant : \n",
    "![](https://fr.wikipedia.org/wiki/Mode_d%27op%C3%A9ration_(cryptographie)#/media/Fichier:Schema_CBC.svg)\n",
    "\n",
    "Pour commencer il faut qu'on fasse un XOR avec le vecteur initilisateur, puis nous utiliserons le cryptage ECB avec la clé, ce qui nous donne une block chiffré. Le XOR avec l'IV et le block précédent nous donne le nouveau Vecteur initialisateur \n",
    "On a donc\n"
   ]
  },
  {
   "cell_type": "code",
   "execution_count": 135,
   "metadata": {},
   "outputs": [
    {
     "name": "stdout",
     "output_type": "stream",
     "text": [
      "b'\\xa4\\x0c^cM\\xdb#\\x9a\\x15\\xe6\\xe1\\x1e\\x99\\x8f\\xbf/'\n",
      "b\"\\x8f\\xfcj6-H\\x0f'a\\xc2\\xd3I\\x94@\\x82G\"\n",
      "b'\\xect\\xbb\\x8dh\\xd2\\xbc\\x02M\\xa6\\xc7h\\xd4\\x86\\xa1\\x1b'\n",
      "b'\\xbdqW\\xf7\\x7f,p\\x95\\x0c\\x17P<\\xf4\\xf1\\xf7\\xf0'\n",
      "b'\\xde\\xe2\\xe9G\\xe5\\xbd\\x89+\\xaa\\xbaG%\\xf3\"\\x00\\xf2'\n",
      "b'P\\xaaw\\xa2]\\xed\\x14X\\x18\\x8cw0#]xk'\n",
      "b'\\xa1\\x15\\xaf:$\\x8ao\\xec\\x8c\\x12\\xf9\\x18w\\xc6\\x0f\\x00'\n",
      "b'db\\xde\\xd8dju\\xd0W\\xbd\\x05\\xf7\\xcd\\x06\\x99\\xd8'\n",
      "b'\\xdb\\xca~\\x11\\xe1\\xe7\\xfbY\\x11\\x9dc\\xae\\r\\xe9\\x07*'\n",
      "b'\\x1e\\xe6\\x03<y\\x04\\x8a\\x88\\x93\\xe4\\x89Sf\\xea_Z'\n",
      "b'\\xa5\\x02\\x1d\\xe4j\\x82Zk%\\x971\\t%)\\xd1\\xc4'\n",
      "b'l\\x1a\\xe9P\\x1f\\xf6E\\x1c\"\\xcf9\\xd1\\xcc\\'\\xeep'\n",
      "b'\\xdb#\\xf2\\x1e\\xbd4n\\x16\\xbf\\xc1G3\\xcc\\xb2\\x1eB'\n",
      "b'\\x1dx\\xc9\\xc0\\xc7\\xf1\\x06\\x1f$9}9\\x9c\\xf8ES'\n",
      "b'\\xc9c\\xa5B8\\xe3S\\x04\\xeb\\x11\\xed\\x19\\xed]\\xf3\\x86'\n",
      "b'\\xfbW\\xc4m\\xac\\x02\\x82*\\xdfs\\x86\\xb484v\\xc5'\n",
      "b'\\xdc\\xd1\\x03\\xffr\\x04ZaXGDq\\xdep\\x04\\xb8'\n",
      "b'\\xb5\\xd9\\xdc\\xdd\\x8c\\x10\\xd7zq\\xf7qT\\x02V\\xbdw'\n",
      "b'\\xfb\\xff#\\xe3\\xa9\\xed\\xf0\\xbd\\x89\\xbff\\xf8\\x16\\xe7\\xbf\\xa0'\n",
      "b\"yK#A\\xaa\\x8ao'\\x10\\xa5\\xe3\\x85\\xd9@\\x83\\xa2\"\n",
      "b'\\xae\\x84c\\x82\\x02\\xfaw!\\x0fW\\xe77\\xaaY\\x7f\\x81'\n",
      "b\"'N3\\x1b\\xf2R1\\xfe\\xc8H\\xd3\\xc56x\\xa9\\x8a\"\n",
      "b'\\xdb\\xff\\x8b\\x00b\\xfa\\xbfB)\\xe6\"\\x19|\\x834Y'\n",
      "b'Ig\\xd3\\x05\\x87\\x8c\\x07\\x0f`+\\xfeu\\xefC\\x91\\x04'\n",
      "b'\\x1b\\xc8KTTS\\xb5\\n\\x9d\\xffzx\\xc7I\\x01B'\n",
      "b'&\\x1b\\x1f\\x0f\\xbc\\x92\\xdf\\x18\\xc8\\x06UT\\x80\\xe5.\\x85'\n",
      "b'm\\x85\\xf3\\x0b\\x03^\\xd0}R\\x81\\xd9\\xd1\\xff\\xefo/'\n",
      "b'+\\xc9\\xdd\\x95\\xc3HaMz\\xef\\xc8_\\xb6\\x04u\\xf2'\n",
      "b'\\xf7\\xbf\\x93\\xb1\\xbd\\xcc\\x19@\\x87C\\xa6d\\xf9\\xab-g'\n",
      "b's\\xbc\\x04v\\xae\\xb2h\\xa8\\xde\\x80N\\xd0)\\xa9B\\t'\n",
      "b'F\\xa6\\xad$\\x81x\\xa1j\\x99\\x97\\x1e\\x1f\\x85>\\xab\\xd5'\n",
      "b'\\x15zaC\\x18M\\xba\\xc5\\x13Rs/\\xca\\x17\\xe5K'\n",
      "b'\\xf2\\x87\\x95)]\\xae\\xd9n\\x17{|W1\\x14\\xa5\\xe4'\n",
      "b'8\\xbcW\\x98\\xa2\\xa8\\xea\\xcbl3\\xb0T,T\\xaf\\xfe'\n",
      "b\",6L9\\x1c\\x9d\\x1f\\xfb\\x8f\\x1af_\\x9bc\\xbc'\"\n",
      "b'\\x7fa\\xff\\xcb\\x07\\x02_\\xfb\\xa6\\x17\\xe0\\xe0`Ow\\xe6'\n",
      "b'PZ\\xe1\\xd1n\\xdb\\xda\\x907\\x94op\\xdd\\xc2\\xc2\\x99'\n",
      "b\"\\xf6\\x99pS\\xaf\\xac\\x97\\x0b;\\xe0'\\x1a\\xc1\\x9ak\\xf5\"\n",
      "b'\\x89\\x96\\xb0\\xb2~\\x00\\x0chp\\x8a\\xc7}\\xff\\xd3\\x9d\\x0c'\n",
      "b'\\xec$k\\xc8\\x15\\x8a\\xaf\\x8d\\xa4\\x1e\\x97\\x16\\xeet\\xd3\\xb4'\n",
      "b'\\xebI\\xa14\\x82S\\xe6\\xb0|@22\\x98\\xc3\\x8c^'\n",
      "b\"\\xa1\\x9e'\\xb7q\\x9f\\xb4&\\x13\\xfaM*\\xad\\x16\\xac\\xb9\"\n",
      "b'k*iy\\xbc=x\\xb1:I\\x82\\xf7({\\xca\\xf1'\n",
      "b'\\x81\\x97`\\x05\\x92\\x1f\\xc8\\x18Uy\\xa5\\xcb\\x94%\\xa1\\x83'\n",
      "b'\\xd0\\xd5\\x87r\\x8dP\\x0b]]\\xee\\x95\\xce\\x12l\\x8e\\xf6'\n",
      "b'-\\xa3v\\xde\\x9d/\\xc1\\x1c\\x18;\\xb5\\xb5\\xb0/!\\x12'\n",
      "b\"'w\\xban\\x16\\x1c\\xfa\\xb2\\x85M\\xee\\xa0\\xcc\\xa5\\x04\\xbb\"\n",
      "b'\\x7fZ\\xdfq\\x1b,\\xd5}h\\xe4\\xff\\xe8\\x95\\xc2;\\x07'\n",
      "b'\\x0f\\x19o\\n\\xaa\\x99\\\\k%lS\\xe6\"Ak\\xd6'\n",
      "b'\\x1aE\\xae\\xc1K}Z\\xbf,7\\xc3\\xe6:#\\xf8k'\n",
      "b'\\xf7\\xf7\\xb8B\\x12i\\ro\\xca\\xc0\\xd4\\xee&\"\\xca\\xf1'\n",
      "b'yzT[\\xc2l\\x05\\xf4`-\\x8a\\x90@\\xc7U\\xe8'\n",
      "b'\\x8b\\xdfg\\xb0\\xa8\\x16\\x93@L\\xf4N\\xdc\\xaf~m\\xba'\n",
      "b':\\x88\\x85tGn\\xc2\\x18y\\xa9T\\x18*u\\x06\\xc1'\n",
      "b'\\xfe\\xe6\\x8cOw~\\xb3\\x00\\x99\\xd94\\xf3\\xe0\\xbd\\xba\\xe4'\n",
      "b\"\\xafC\\xc7\\x88\\x80.]\\x1bd\\xd0)\\xc3n\\xb6'|\"\n",
      "b'D-\\x10j\\x9c\\x9e\\xfdoPno\\xbc^\\xd3\\xef\\xa1'\n",
      "b'\\xf5\\xcc\\xe3\\xf8\\xb2Q\\xbfy\\xb7~\\xe4\\\\B{F\\xb4'\n",
      "b'E\\x9a\\x99\\xffb\\xafL\\xf5I\\x12M]u\\x076\\xbe'\n",
      "b'o7o1\\x01C\\\\VI2\\xda\\xc9\\xd8\\xef\\x19i'\n",
      "b'\\x17\\x1e4\\xfb\\xc3\\x86\\xea&\\xc2s\\x91r\\x91\\x92!Q'\n",
      "b'z\\xfe#\\x08\\x110\\x16DB\\xfa\\xa7\\xc6\\xfa\\xd7\\x18B'\n",
      "b'J\\xefw\\xbe\\x9a\\x83\\x7f6\\xe7\\xfe\\x18\\x14\\x8c?\\x90\\xda'\n",
      "b'l\\x00\\x08\\x92\\x91=r\\xb1\\xa1\\xb2U\\x07\\xbdL\\xabu'\n",
      "b'\\xcf\\x02\\xaf\\x05\\x0b\\x16\\x816;\\xbe\\xa2|\\xd2\\xb2U\\xbf'\n",
      "b'\\x02\\x13\\xca\\x97,c\\xacI5\\x83\\xe5K*\\xab\\xccK'\n",
      "b'-mh\\x84\\xf7\\xbf>\\x03\\xdb\\xdd\\xe2\\xb7\\xc9\\xc9r\\xdb'\n",
      "b'\\x83\\xed\\xf2O{SZy\\x10\\x1d\\x17\\xd3\\xfd\\xeb\\xf0\\xfc'\n",
      "b'\\xcfd\\xbe\\t\\x94z\\x80\\xd5\\x95\\xf9\\xbd0\\x04m\\xbe\\x17'\n",
      "b'4A0\\x89\\xc9\\xfe1\\x93]\\xdfN\\x16\\xd3\\xc1\\xd8\\xce'\n",
      "b'2\\x00\\x13\\xc9A\\xc7\\xd2g\\xa6P\\xe7z\\xac\\x87;\\xdd'\n",
      "b'\\xe8\\xd4\\\\\\x9a\\xb3\\x8c\\xdf\\xc2\\xe9}3\\xf2S\\xa6\\xa3q'\n",
      "b'\\xaf\\x8d\\x1b\\xf2\\xd1\\xd6K\\n\\xc8t\\xfb\\xb6\\x7fa\\n\\xa1'\n",
      "b'~\\xed\\x84up\\xd5H[\\xa8\\xfeG\\xb1\\xd06\\xc9\\xc6'\n",
      "b'i\\xb2jjs\\xa7\\x1c\\xa0\\x80\\xca\\xeb\\xddO\\xb6\\x08\\xb6'\n",
      "b\"L\\x90\\xa6\\xdbCP\\x1c\\xd5N\\xf0\\xf9'(V\\x11\\xd3\"\n",
      "b'\\x17\\x8ec_\\xa0 \\xd2\\xdfH\\x06\\xac\\x82s\\xc5\\x0bw'\n",
      "b'Z\\xd6 \\x84\\x8a\\x90\\xa8\\xfe\\x83\\x8f\\xb4\\x86R\\xf0\\x1f\\x1e'\n",
      "b'\\x0b;`m\\xe0\\x8b\\x1a\\xcf\\xc9\\xb7\\x05\\x9e\\tDI\\x90'\n",
      "b'U-2:B\\xf6\\x8bG2\\x06\\xa1@\\xc9\\xe8T,'\n",
      "b\"iv\\xeet\\xdc\\xe40#\\xad\\xdd'\\x07\\xeb\\xa3\\xc89\"\n",
      "b'\\x82\\xb1\\x0c\\xcbo8\\x9bX\\xff\\x04\\xf1\\x8e\\x98\\x18{j'\n",
      "b'g\\x90y\\xda \\xc5w\\x947\\xa1&A\\x1e\\x17C@'\n",
      "b'\\xc9\\xe3Q\\xac\\x03\\xe2\\r\\xab\\xdc\\x9a\\x16\\x88\\xf7\\x06\\xe3\\x06'\n",
      "b'\\x92\\x03\\x1c^>H\\xc9\\x80P<\\t\\xe1\\x1an_\\xca'\n",
      "b'\\xdc\\xae\\x1b\\xd5=\\x077KL\\xa4\\x98C\\xc9y\\xd6\\xf5'\n",
      "b'4\\xfe\\x87*\\x0e6\\xcce\\xdb\\xb4\\x87\\xad\\xf1\\xa9\\x17H'\n",
      "b'p\\xd9\\xf7\\xa8\\xd5\\x01\\xb5\\x9d\\xa6.\\xf8\\xae\\xd2r\\xbb\\x1d'\n",
      "b'\\xc5\\x1e\\xf5\\x04\\x08\\xa3\\xf7\\x03\\x16J&s^\\x84\\xbaA'\n",
      "b'\\xff\\xd3qL\\xcf1\\xf6\\t\\xa9\\x94\\xcb\\xfe\\x7f.< '\n",
      "b'\\x1bC]\\x00\\x83n\\xf7#\\x94\\x06#\\xbch\\x96\\\\;'\n",
      "b'\\xe8j\\xe2\\xca\\xbc\\x03O[\\xdd8\\x880>\\xc2\\xd7\\x9c'\n",
      "b'\\x05W\\x9f\\xab\\xe9<\\x8d\\x08\\x90\\xf7 \\xa1\\x0e\\xcf\\xcd\\x1d'\n",
      "b'\\xff) d\\x14\\x9f+\\x86\\x8au\\xd4Z2\\xa1\\xd6\\xdb'\n",
      "b'}\\x17u\\xbe\\xea\\x0f\\xc6V\\xac\\x1a\\x07\\xdb\\x963\\xdbo'\n",
      "b'\\xf1\\x0e\\xd0:c\\x90\\xdd\\x8dms<\\xf6\\xfc\\xe5oO'\n",
      "b'\\xf8\\xfd\\xe4G\\xab[\\xcdc\\xf3\\x8cfE\\x17TP\\xd6'\n",
      "b'Mq\\xf4\\xf7\\xba\\x14D\\xbc\\\\w\\xe1N\\x8d<\\xd5\\x84'\n",
      "b'$\\xa4\\xc8\\x03\\xc2\\xe1Y`D\\xdd\\xde\\x88\\x8b>\\xf8$'\n",
      "b'C\\xeb8%\\n[\\xb8y\\x10\\xbc\\xd3X\\xe3\\xca>\\x94'\n",
      "b'\\xc4\\xd6p\\xd7bp\\x89L&\\x8d\\x89\\xbdV\\x9d\\xa7?'\n",
      "b'\\xf5\\xcf\\xbd\\xc19\\xfb\\\\n\\x9d \\xe9\\x16\\x94\\\\\\xdc\\xf1'\n",
      "b\"\\xb3\\xc3've\\x85\\xdf\\xe5\\x8c\\xa3\\x01\\x0f\\x92t}\\xab\"\n",
      "b'\\xc1v\\x98%\\x03\\x90\\xe5\\xd1\\x1c\\x9f\\xffl\\xfbf\\xd9\\x02'\n",
      "b'\\xb9\\xd8z\\xc8\\xfd\\x80\\xf5\\xd7A\\xa0\\xbd\\x8ew\\x9axn'\n",
      "b'\\x1f\\xb8\\xf7\\x1eRX]C}\\xdf\\x8e\\xd8\\xac\\x8e\\x92\\xab'\n",
      "b'T\\xf1\\xfc\\xd9\\xa7Q\\xbe\\x0cM\\xd9\\x8f\\xb2UD\\xa07'\n",
      "b'\\xa1\\xe4\\xcdL\\xce(\\xde\\xec\\x1c\\xcb\\x8ft\\x06\\xad\\xe2\\x7f'\n",
      "b'AM\\x84\\x02)\\x1d\\xfd\\x94 \\n\\xe1$\\x8el\\x97\\xdc'\n",
      "b'\\xbf~\\xda$\\xb3\\n\\x89\\xbc\\xfc\\x0bu(\\xc7\\x96\\xd8\\xb9'\n",
      "b'\\x07\\xb0\\xe0!\\xe4\\xd0\\xbb\\xd9\\x8cs<\\xc1j\\xbb\\x02\\x9f'\n",
      "b'^\\xf0\\x8b\\xa2\\x10^H\\xe4\\xc6\\xbd\\x90\\xd2?\\xc67\\xb7'\n",
      "b'*\\xbf\\x8f\\x8f\\xe6\\x8f\\xfb\\xd6\\xbaiX\\x03\\xd3\\xab\\xf5\\xd9'\n",
      "b'\\x8f\\x7f\\xa3{\\xbe\\x13\\x0b\\xc8\\xf2D\\x9e$\\xf4\\xb9\\x88\\xc9'\n",
      "b'a\\x0c3\\x94\\x0b\\xa8\\x1bB\\x8b8Z\\x00\\x9a\\xcf\\xa3\\x11'\n",
      "b'\\xf0\\xd4v\\x11x\\x9b\\xdc\\xd7Xf\\xa9\\x86\\x11\\x0f-L'\n",
      "b\"B\\xdc\\x8f2'DC\\x89LVw\\xe5C\\x84?Y\"\n",
      "b'\\xe1i\\xbeX\\x10\\xb3\\xe8om\\xb6,\\xe6\\xcf\\xc5\\x8aG'\n",
      "b'4M\\x9f|P{d7\\x9b\\x90aW \\x1d\\x95\\x1f'\n",
      "b'\\xcdM\\xe4I#\\xfd\\xc6\\xdfM\\x01\\xd8\\x14\\x1b7\\x02Z'\n",
      "b\"\\xb5\\xec\\xb1\\xf5-\\x87Y\\x9b\\xdc\\xd68\\xa8/\\xb0'\\x9b\"\n",
      "b'I\\xd7a\\x9c\\t5AWL&\\xde\\xea\\xf2s\\x8c\\x13'\n",
      "b'\\x1e^=S\\xcb\\xfba\\xf9\\xd6\\xae%\\x00\\xebX-('\n",
      "b'\\xd5_\\xf5\\x17\\xe3|\\xde\\x8dr\\xd2\\xcdZ\\x9a\\xefN['\n",
      "b'\\xc9<ub\\xac\\xa0}\\xef\\x93\\xa8\\xd9\\xebo\\xa3\\xff\\xa6'\n",
      "b'=\\x13\\xb5\\xa1\\xc5Y{\\x95\\xa6\\xc86\\xf9\\n[\\xc3\\x88'\n",
      "b'\\xf6Z\\xb4\\xdf\\xaa\\x8d|ZK\\xbf\\xfb\\xf7\\x08]S\\x1b'\n",
      "b\"\\x89f\\x82& >\\xe4zPG'Z\\xabQ0g\"\n",
      "b'\\x9f4\\x98D*y^*U1\\xcb\\xf7W\\xdd \\xed'\n",
      "b'\\xd1l\\xb0G\\xbei\\x05\\x8e~:\\x08Bd|\\x0b\\x8e'\n",
      "b'\\xa2/\\xdaf\\x94\\xb7\\xd4\\x1f>\\xe4\\xe5$\\x18%RL'\n",
      "b\"\\xeb\\xd7\\xfe\\x81_U\\xa1\\xd6\\xff\\xa5'\\x95\\xca\\xed\\xfd\\x9d\"\n",
      "b'\\xba\\xf7\\xb8\\xe4\\x1a,\\xd4O/TZ\\xb7)\\xa8\\x85\\x84'\n",
      "b'\\x96\\xb0\\x9b\\x01 \\xe9\\xaf\\x97\\xfe\"\\x9c+\\xaei\\xb3\\x00'\n",
      "b'\\xb8\\xda\\x90d\\xad/\\xbb\\xf9\\xe2\\x8a\\x84%<*2{'\n",
      "b'T\\xecZ\\xe5\\x80;\\xe7\\\\\\xc3\\x17U\\x95\\xdd\\xaf\\x94c'\n",
      "b\"\\x84\\x11\\xb7\\xeaB<\\xf6D\\xbbn3\\xd9\\xe6'\\xf6\\xaa\"\n",
      "b'a\\xd7\\t\\x8e\\x15]\\xa8]{\\x00c\\x9e\\x07U\\x0f:'\n",
      "b'\\xa6\\xd3\\xa3|B\\x8bq\\xd3i\\xb0\\x8a8\\x82\\xf7Au'\n",
      "b'\\x9b\\xd7\\x05\\xaa\\xceL\\xeb\\x93\\xfe\\x0bQ\\xf9\\x1f\\x84l/'\n",
      "b\"'X\\xae\\xe4\\xd0\\r\\x8d\\xeb\\x80\\x1dx\\x9c\\xb5\\xca\\x1c*\"\n",
      "b'`\\x8e}Y\\x9e\\xff-\\xfa\\xb8\\xca\\xbd\\xb4Yhh\\xaf'\n",
      "b'\\x80\\x0b\\xf1u\\x8d\\\\b\\xc7w\\x01\\xd2\\xe4b]\\xa8\\xbf'\n",
      "b'\\xd1I\\x1a\\xf1u\\xd9\\xf1\\x1f\\xdc\\t\\xe7=\\xb9\\xf9\\xf9\\xd1'\n",
      "b'\\x12\\x13\\xca\\xc4-\\x81\\xe8\\x1c\\xefE\\xa6R\\xd3^\\xec\\xea'\n",
      "b'\\xb2\\xdb\\xd8\\xa6\\x15O\\x02G\\x8fo\\x98p\\x12\\x13<\\xf9'\n",
      "b'e\\x0e1\\x99\\x99\\xc0\\xc1\\x97\\xda;\\x80\\x02.\\x16%>'\n",
      "b'\\xbe!Z\\x17\\xaa\\xec%\\x86\\xa8\"\\x07^(\\xaa\\x91\\xfb'\n",
      "b'\\x19\\x1e\\x9f\\x16\\xe5\\x86\\xdf\\xb2\\xcaK\\x9a\\x87\\xfe\\xc7J\\xd2'\n",
      "b'_L\\xf7r\\xb2\\x89\\xb22\\xf3y\\xb6\\x94!:\\xa6y'\n",
      "b'\\xa7b\\xb3\\xf1\\xba\\x0e\\x9e?\\xa2\\x8c\\xe8\\xd2\\\\\\xb4\\xe4\\x0c'\n",
      "b'kW~\\xfd\\x86\\xad\\x96\\xeb\\xe6C1;\\xa6\\xf15d'\n",
      "b'f|\\x96)\\xfd0\\x1a\\x01.\\x1d)\\xe7\\x94\\xd7\\xb5z'\n",
      "b'\\xf3\\xcc\\xf0Em\\xeb\\xfc\\r%\\x17]$\\xe7\\xb3\\x0f\\xd9'\n",
      "b'\\x0c\\x06RuW\\xdfs>\\xb1j\\xc7O\\xb0YE\\xb3'\n",
      "b'\\x9b\\x8e\\x93x9\\x9e\\xe7\\xb50dK`I\\x9c \\x1c'\n",
      "b'\\t\\x03\\x8c%-?\\xe2\\x9e\\xa1^\\x10\\x9bc\\xf6\\xa7s'\n",
      "b'\\xb9@|;\\xb0\\x9eq`\\xc34\\xf2\\x84\\xc1!\\xc5\\xeb'\n",
      "b'\\x98\\xe7\\x08b\\x1b\\x9f\\xf6^\\x88r\\x0c5\\x05\\x1b]\\xd1'\n",
      "b'\\x85\\x1ao\\x11\\\\\\x8a,\\xb8{\\x90m\\\\7\\xed?\\xd1'\n",
      "b\"Z\\x93\\xb5O\\xb0n\\xdfZ\\xf2\\xa9'\\xe9t\\x93\\xa9c\"\n",
      "b'\\x86\\xdf\\x83\\xdfg\\xb27\\x10\\xfb\\x14C\\x89\\xed\\xaa\\xb9\\xf9'\n",
      "b'5\\xe6\\x9b\\xbe\\xeb\\xe9\\xfdv\\x1a\\x18e\\x023\\xae\\xa9\\x8c'\n",
      "b',\\x88\\xad\\x1a\\xe6\\xadW\\xa2\\xd4+W\\xbe\\xb3A\\xd2\\xaf'\n",
      "b\"\\x98G\\x90\\x87w\\xddr\\x8c\\x1f\\x1c'\\x08\\xa7\\xa8*\\xfc\"\n",
      "b\"#\\xf1\\xf8\\xbe\\xefH\\x1f\\xec\\xe5\\xe0\\xaa*\\t+'\\xb4\"\n",
      "b'\\xfeO\\x9a\\x1cd\\xa13\\xbe\\xaf\\xf0\\x90%$\\xa3\\x98\\x88'\n",
      "b'Z\\xda\\x91\\xebgu\\xdb5e\\xdbP\\xb0\\xcc\\xa4\\xe1u'\n",
      "b'\\xc4\\xc1\\xf6L\\xb5\\xcf_\\xe7x\\xac2\\xe8K\\x90\\xbc.'\n",
      "b'\\xbd\\x0b\\x82\\xab\\x9f:\\x95\\xf4z\\x92[i1\\xfb\\r0'\n",
      "b'[[\\xa1\\xac\\n\\x84\\xbf\\x9a\\x14{\\x18?\\xee\\xb9de'\n",
      "b'\\xa9~\\xdcm\\x9acj\\x93\\xf6\\xcb\\x90Tt\\xb2\\x9fN'\n",
      "b\"W'5\\x1e=W\\x04\\xf8\\\\\\x10\\xcb\\xb2(\\xa3;p\"\n",
      "b'\\xee\\xa4\\x1a\\xa3^O\\tRc\\xa1\\xce\\xdcY\\x95\\xb5Q'\n",
      "b'U}4\\xf6\\x87{z\\xd8f!\\xe8\\xb4!\\xe5t!'\n",
      "b'\\x98\\xcc\\xc1i\\xbd\\xe8\\x02\\x8a\\x15\\x90\\xee\\x90\"\\x02\\x06\\xe7'\n",
      "b'Z\\xa1S\\xfe\\xaee\\x9fN\\xb6|\\x91)\\xd0\\x85c\\x07'\n",
      "b'\\xbcu,\\xce\\xdc\\xe5\\x96\\x92=Dn\\x94\\xf0Q9\\xc0'\n",
      "b'\\x90\\x81:ZD\\n\\x12\\xa0\\xb2U\\x18\\xbdZ!\\xa0q'\n"
     ]
    }
   ],
   "source": [
    "import textwrap as t\n",
    "import binascii\n",
    "def cbc_dechiffrage(s1, cle, IV):\n",
    "    valeur = decryptage2(s1, cle)\n",
    "    cipher = fixedXor(valeur, IV)\n",
    "    return cipher\n",
    "\n",
    "def cbc_chiffrage(s1, cle, IV):\n",
    "    texte = padding(s1, AES.block_size)\n",
    "    cipher = fixedXor(texte, IV)\n",
    "    valeur = cryptage(cipher, cle)\n",
    "    return valeur\n",
    "\n",
    "def lecture():\n",
    "    with open(os.path.join(sys.path[0],'fichier','cbc-mode.txt'), \"r\") as mon_fichier :\n",
    "        return mon_fichier.read()\n",
    "\n",
    "\n",
    "fichier = lecture()\n",
    "fichier = b.b64decode(fichier)\n",
    "cle = padding(\"YELLOW SUBMARINE\", AES.block_size)\n",
    "IV = (chr(0)).encode()*len(cle)\n",
    "y = 0\n",
    "for i in range(AES.block_size, len(fichier), AES.block_size):\n",
    "    phrase = fichier[y : i]\n",
    "    phrase_dechiffrer = cbc_dechiffrage(phrase, cle, IV)\n",
    "    y = i\n",
    "    IV = fichier\n",
    "    phrase_dechiffrer = binascii.unhexlify(phrase_dechiffrer)\n",
    "    #phrase_dechiffrer = phrase_dechiffrer.decode()\n",
    "    print(phrase_dechiffrer)\n"
   ]
  },
  {
   "cell_type": "raw",
   "metadata": {},
   "source": [
    "Concernant le déchiffrage l'opération est l'inverse. On prend tout d'abord le contenu chiffré puis avec le vecteur initialisateur on utilise l'algorithme du Ou exclusif puis on dechiffre avec AES ECB. On retrouve donc le contenu chiffré. Pour le deuxième bloc on utilise le premier block comme VI."
   ]
  },
  {
   "cell_type": "markdown",
   "metadata": {},
   "source": [
    "#### 2.3 An ECB/CBC detection oracle"
   ]
  },
  {
   "cell_type": "raw",
   "metadata": {},
   "source": [
    "Tout d'abord nous allons creer une fonction qui va nous renvoyer des clés de 16 bytes au hasard."
   ]
  },
  {
   "cell_type": "code",
   "execution_count": 137,
   "metadata": {},
   "outputs": [
    {
     "name": "stdout",
     "output_type": "stream",
     "text": [
      "b'\\xfd]\\xa03mJ\\xb4S\\xf6\\xe8Nb\\xdex\\xfe\\x0c'\n"
     ]
    }
   ],
   "source": [
    "import os\n",
    "\n",
    "def random_key(taille): \n",
    "    cle = os.urandom(taille)\n",
    "    return cle\n",
    "\n",
    "print(random_key(16))"
   ]
  },
  {
   "cell_type": "code",
   "execution_count": null,
   "metadata": {},
   "outputs": [],
   "source": []
  }
 ],
 "metadata": {
  "kernelspec": {
   "display_name": "Python 3",
   "language": "python",
   "name": "python3"
  },
  "language_info": {
   "codemirror_mode": {
    "name": "ipython",
    "version": 3
   },
   "file_extension": ".py",
   "mimetype": "text/x-python",
   "name": "python",
   "nbconvert_exporter": "python",
   "pygments_lexer": "ipython3",
   "version": "3.7.3"
  }
 },
 "nbformat": 4,
 "nbformat_minor": 2
}
